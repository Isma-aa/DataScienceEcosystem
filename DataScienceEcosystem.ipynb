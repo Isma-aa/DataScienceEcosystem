{
  "metadata": {
    "kernelspec": {
      "name": "python",
      "display_name": "Python (Pyodide)",
      "language": "python"
    },
    "language_info": {
      "codemirror_mode": {
        "name": "python",
        "version": 3
      },
      "file_extension": ".py",
      "mimetype": "text/x-python",
      "name": "python",
      "nbconvert_exporter": "python",
      "pygments_lexer": "ipython3",
      "version": "3.8"
    }
  },
  "nbformat_minor": 5,
  "nbformat": 4,
  "cells": [
    {
      "id": "9f75cebc-6afe-4369-91c8-d7793a568b66",
      "cell_type": "markdown",
      "source": "# Data Science Tools and Ecosystem",
      "metadata": {}
    },
    {
      "id": "5f6ffa41-b2d0-4bee-83d0-7a0695d7404b",
      "cell_type": "markdown",
      "source": "## Introduction\nIn this notebook, Data Science Tools and Ecosystem are summarized.",
      "metadata": {}
    },
    {
      "id": "b46bbcea-02b0-482a-8b5d-75aea06f48b7",
      "cell_type": "markdown",
      "source": "## Data Science Language\nSome of the popular languages that Data Scientists use are:\n1. Phyton\n2. R\n3. SQL",
      "metadata": {}
    },
    {
      "id": "201ddd6b-b616-4684-956a-9b04907f1079",
      "cell_type": "markdown",
      "source": "Some of the commonly used libraries used by Data Scientists include:\n1. Pandas\n2. Numpy\n3. Matplotlib",
      "metadata": {}
    },
    {
      "id": "09643e6a-1909-4e18-a73d-c75a1586031f",
      "cell_type": "markdown",
      "source": "|Data Science Tools|\n|------------------|\n|Jupyter Notebook  |\n|GitHub            |\n|RStudio           |",
      "metadata": {}
    },
    {
      "id": "2bf4966f-a99d-4962-98ff-32033422f149",
      "cell_type": "markdown",
      "source": "### Below are a few examples of evaluating arithmetic expressions in Python.",
      "metadata": {}
    },
    {
      "id": "309a4307-29fe-4029-bc24-fffceba9e31b",
      "cell_type": "code",
      "source": "# This a simple arithmetic expression to mutiply then add integers\n(3*4)+5",
      "metadata": {
        "trusted": true
      },
      "outputs": [
        {
          "execution_count": 2,
          "output_type": "execute_result",
          "data": {
            "text/plain": "17"
          },
          "metadata": {}
        }
      ],
      "execution_count": 2
    },
    {
      "id": "5f1ad01e-7da7-4e73-b912-239cf875b5eb",
      "cell_type": "code",
      "source": "# This will convert 200 minutes to hours by diving by 60.\nminutes = 200\nhours = minutes/60\nhours\n",
      "metadata": {
        "trusted": true
      },
      "outputs": [
        {
          "execution_count": 4,
          "output_type": "execute_result",
          "data": {
            "text/plain": "3.3333333333333335"
          },
          "metadata": {}
        }
      ],
      "execution_count": 4
    },
    {
      "id": "74343d4f-30a1-4efb-84ac-03d716669f30",
      "cell_type": "markdown",
      "source": "**Objetives:**\n- List popular languages for Data Science\n- Describe the tools used in Data Science\n- List commonly used libraries in Data Science",
      "metadata": {}
    },
    {
      "id": "91b68250-106a-4475-bafd-86698aed5090",
      "cell_type": "markdown",
      "source": "## Author\nIsmael Flores",
      "metadata": {}
    }
  ]
}